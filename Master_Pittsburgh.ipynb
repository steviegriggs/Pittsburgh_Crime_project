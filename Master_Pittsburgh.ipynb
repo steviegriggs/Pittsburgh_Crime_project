{
 "cells": [
  {
   "cell_type": "code",
   "execution_count": 1,
   "metadata": {},
   "outputs": [],
   "source": [
    "# Import Dependencies\n",
    "import matplotlib.pyplot as plt\n",
    "import pandas as pd\n",
    "import numpy as np\n",
    "import requests\n",
    "import time\n",
    "from datetime import date\n",
    "import calendar"
   ]
  },
  {
   "cell_type": "code",
   "execution_count": 2,
   "metadata": {},
   "outputs": [
    {
     "data": {
      "text/html": [
       "<div>\n",
       "<style scoped>\n",
       "    .dataframe tbody tr th:only-of-type {\n",
       "        vertical-align: middle;\n",
       "    }\n",
       "\n",
       "    .dataframe tbody tr th {\n",
       "        vertical-align: top;\n",
       "    }\n",
       "\n",
       "    .dataframe thead th {\n",
       "        text-align: right;\n",
       "    }\n",
       "</style>\n",
       "<table border=\"1\" class=\"dataframe\">\n",
       "  <thead>\n",
       "    <tr style=\"text-align: right;\">\n",
       "      <th></th>\n",
       "      <th>Date</th>\n",
       "      <th>Temperature</th>\n",
       "      <th>Weather Condition</th>\n",
       "    </tr>\n",
       "  </thead>\n",
       "  <tbody>\n",
       "    <tr>\n",
       "      <th>0</th>\n",
       "      <td>2016-02-12</td>\n",
       "      <td>20.53</td>\n",
       "      <td>Mostly Cloudy</td>\n",
       "    </tr>\n",
       "  </tbody>\n",
       "</table>\n",
       "</div>"
      ],
      "text/plain": [
       "         Date  Temperature Weather Condition\n",
       "0  2016-02-12        20.53     Mostly Cloudy"
      ]
     },
     "execution_count": 2,
     "metadata": {},
     "output_type": "execute_result"
    }
   ],
   "source": [
    "# Import & Read CSV generated from DarkSky Weather API\n",
    "csv_path1= \"Resources/temp_weather.csv\"\n",
    "weather_df = pd.read_csv(csv_path1)\n",
    "# Clean weather_df\n",
    "del weather_df['Unnamed: 0']\n",
    "del weather_df['index']\n",
    "\n",
    "weather_df.head(1)"
   ]
  },
  {
   "cell_type": "code",
   "execution_count": 3,
   "metadata": {},
   "outputs": [],
   "source": [
    "# Import & Read CSV generated from Pittsburgh Crime Codes\n"
   ]
  },
  {
   "cell_type": "code",
   "execution_count": 4,
   "metadata": {},
   "outputs": [
    {
     "data": {
      "text/html": [
       "<div>\n",
       "<style scoped>\n",
       "    .dataframe tbody tr th:only-of-type {\n",
       "        vertical-align: middle;\n",
       "    }\n",
       "\n",
       "    .dataframe tbody tr th {\n",
       "        vertical-align: top;\n",
       "    }\n",
       "\n",
       "    .dataframe thead th {\n",
       "        text-align: right;\n",
       "    }\n",
       "</style>\n",
       "<table border=\"1\" class=\"dataframe\">\n",
       "  <thead>\n",
       "    <tr style=\"text-align: right;\">\n",
       "      <th></th>\n",
       "      <th>PK</th>\n",
       "      <th>CCR</th>\n",
       "      <th>AGE</th>\n",
       "      <th>GENDER</th>\n",
       "      <th>RACE</th>\n",
       "      <th>ARRESTTIME</th>\n",
       "      <th>ARRESTLOCATION</th>\n",
       "      <th>OFFENSES</th>\n",
       "      <th>INCIDENTLOCATION</th>\n",
       "      <th>INCIDENTNEIGHBORHOOD</th>\n",
       "      <th>INCIDENTZONE</th>\n",
       "      <th>INCIDENTTRACT</th>\n",
       "      <th>COUNCIL_DISTRICT</th>\n",
       "      <th>PUBLIC_WORKS_DIVISION</th>\n",
       "      <th>X</th>\n",
       "      <th>Y</th>\n",
       "    </tr>\n",
       "  </thead>\n",
       "  <tbody>\n",
       "    <tr>\n",
       "      <th>0</th>\n",
       "      <td>1975272</td>\n",
       "      <td>16158872</td>\n",
       "      <td>42.0</td>\n",
       "      <td>F</td>\n",
       "      <td>B</td>\n",
       "      <td>2016-08-24T12:20:00</td>\n",
       "      <td>4700 Block Centre AV Pittsburgh, PA 15213</td>\n",
       "      <td>3929 Retail Theft.</td>\n",
       "      <td>4700 Block Centre AV Pittsburgh, PA 15213</td>\n",
       "      <td>Bloomfield</td>\n",
       "      <td>5</td>\n",
       "      <td>804.0</td>\n",
       "      <td>8.0</td>\n",
       "      <td>2.0</td>\n",
       "      <td>-79.949277</td>\n",
       "      <td>40.452551</td>\n",
       "    </tr>\n",
       "  </tbody>\n",
       "</table>\n",
       "</div>"
      ],
      "text/plain": [
       "        PK       CCR   AGE GENDER RACE           ARRESTTIME  \\\n",
       "0  1975272  16158872  42.0      F    B  2016-08-24T12:20:00   \n",
       "\n",
       "                              ARRESTLOCATION            OFFENSES  \\\n",
       "0  4700 Block Centre AV Pittsburgh, PA 15213  3929 Retail Theft.   \n",
       "\n",
       "                            INCIDENTLOCATION INCIDENTNEIGHBORHOOD  \\\n",
       "0  4700 Block Centre AV Pittsburgh, PA 15213           Bloomfield   \n",
       "\n",
       "  INCIDENTZONE  INCIDENTTRACT  COUNCIL_DISTRICT  PUBLIC_WORKS_DIVISION  \\\n",
       "0            5          804.0               8.0                    2.0   \n",
       "\n",
       "           X          Y  \n",
       "0 -79.949277  40.452551  "
      ]
     },
     "execution_count": 4,
     "metadata": {},
     "output_type": "execute_result"
    }
   ],
   "source": [
    "#Import & Read Original Pittsburgh Crime Data CSV\n",
    "csv_path3= \"Resources/crime_data.csv\"\n",
    "master_df = pd.read_csv(csv_path3)\n",
    "master_df.head(1)"
   ]
  },
  {
   "cell_type": "code",
   "execution_count": 5,
   "metadata": {},
   "outputs": [
    {
     "data": {
      "text/html": [
       "<div>\n",
       "<style scoped>\n",
       "    .dataframe tbody tr th:only-of-type {\n",
       "        vertical-align: middle;\n",
       "    }\n",
       "\n",
       "    .dataframe tbody tr th {\n",
       "        vertical-align: top;\n",
       "    }\n",
       "\n",
       "    .dataframe thead th {\n",
       "        text-align: right;\n",
       "    }\n",
       "</style>\n",
       "<table border=\"1\" class=\"dataframe\">\n",
       "  <thead>\n",
       "    <tr style=\"text-align: right;\">\n",
       "      <th></th>\n",
       "      <th>Age</th>\n",
       "      <th>Gender</th>\n",
       "      <th>Race</th>\n",
       "      <th>Offenses Severity</th>\n",
       "      <th>Date</th>\n",
       "      <th>Arrest_Time</th>\n",
       "      <th>Incident Location</th>\n",
       "      <th>Incident Latitude</th>\n",
       "      <th>Incident Longitude</th>\n",
       "      <th>Incident Neighborhood</th>\n",
       "      <th>Incident Zone</th>\n",
       "    </tr>\n",
       "  </thead>\n",
       "  <tbody>\n",
       "    <tr>\n",
       "      <th>0</th>\n",
       "      <td>42.0</td>\n",
       "      <td>F</td>\n",
       "      <td>B</td>\n",
       "      <td>3929 Retail Theft.</td>\n",
       "      <td>2016-08-24</td>\n",
       "      <td>12:20:00</td>\n",
       "      <td>4700 Block Centre AV Pittsburgh, PA 15213</td>\n",
       "      <td>40.452551</td>\n",
       "      <td>-79.949277</td>\n",
       "      <td>Bloomfield</td>\n",
       "      <td>5</td>\n",
       "    </tr>\n",
       "  </tbody>\n",
       "</table>\n",
       "</div>"
      ],
      "text/plain": [
       "    Age Gender Race   Offenses Severity        Date Arrest_Time  \\\n",
       "0  42.0      F    B  3929 Retail Theft.  2016-08-24    12:20:00   \n",
       "\n",
       "                           Incident Location  Incident Latitude  \\\n",
       "0  4700 Block Centre AV Pittsburgh, PA 15213          40.452551   \n",
       "\n",
       "   Incident Longitude Incident Neighborhood Incident Zone  \n",
       "0          -79.949277            Bloomfield             5  "
      ]
     },
     "execution_count": 5,
     "metadata": {},
     "output_type": "execute_result"
    }
   ],
   "source": [
    "# Clean master_df & Print Pittsburgh Crime DataFrame (organized_df)\n",
    "# Split up ARRESTTIME column into Arrest Hour, Arrest Date, Arrest Month, Arrest Year, Arrest Unix Timestamp columns\n",
    "master_df[['Date','Arrest_Time']]=master_df['ARRESTTIME'].str.split('T', expand=True,n=2)\n",
    "\n",
    "# Drop unnecessary columns: PK, CCR, ARRESTLOCATION, OFFENSES, INCIDENTTRACT, COUNCIL_DISTRICT, PUBLIC_WORKS_DIVISION.\n",
    "del master_df['PK']\n",
    "del master_df['CCR']\n",
    "del master_df['ARRESTTIME']\n",
    "del master_df['ARRESTLOCATION']\n",
    "del master_df['INCIDENTTRACT']\n",
    "del master_df['COUNCIL_DISTRICT']\n",
    "del master_df['PUBLIC_WORKS_DIVISION']\n",
    "# Rename Columns\n",
    "master_df.columns = ['Age', 'Gender', 'Race', 'Offenses Severity', 'Incident Location', 'Incident Neighborhood', 'Incident Zone', 'Incident Longitude', 'Incident Latitude', 'Date', 'Arrest_Time']\n",
    "# Reorganize Columns\n",
    "organized_df = master_df[['Age', 'Gender', 'Race', 'Offenses Severity', 'Date', 'Arrest_Time', 'Incident Location', 'Incident Latitude', 'Incident Longitude', 'Incident Neighborhood', 'Incident Zone']]\n",
    "# View DataFrame\n",
    "organized_df.head(1)"
   ]
  },
  {
   "cell_type": "code",
   "execution_count": 6,
   "metadata": {},
   "outputs": [
    {
     "data": {
      "text/html": [
       "<div>\n",
       "<style scoped>\n",
       "    .dataframe tbody tr th:only-of-type {\n",
       "        vertical-align: middle;\n",
       "    }\n",
       "\n",
       "    .dataframe tbody tr th {\n",
       "        vertical-align: top;\n",
       "    }\n",
       "\n",
       "    .dataframe thead th {\n",
       "        text-align: right;\n",
       "    }\n",
       "</style>\n",
       "<table border=\"1\" class=\"dataframe\">\n",
       "  <thead>\n",
       "    <tr style=\"text-align: right;\">\n",
       "      <th></th>\n",
       "      <th>Date</th>\n",
       "      <th>Temperature</th>\n",
       "      <th>Weather Condition</th>\n",
       "      <th>Age</th>\n",
       "      <th>Gender</th>\n",
       "      <th>Race</th>\n",
       "      <th>Offenses Severity</th>\n",
       "      <th>Arrest_Time</th>\n",
       "      <th>Incident Location</th>\n",
       "      <th>Incident Latitude</th>\n",
       "      <th>Incident Longitude</th>\n",
       "      <th>Incident Neighborhood</th>\n",
       "      <th>Incident Zone</th>\n",
       "    </tr>\n",
       "  </thead>\n",
       "  <tbody>\n",
       "    <tr>\n",
       "      <th>0</th>\n",
       "      <td>2016-02-12</td>\n",
       "      <td>20.53</td>\n",
       "      <td>Mostly Cloudy</td>\n",
       "      <td>24.0</td>\n",
       "      <td>F</td>\n",
       "      <td>B</td>\n",
       "      <td>2701(a)(1) Simple Assault - Intent., Know., Re...</td>\n",
       "      <td>21:00:00</td>\n",
       "      <td>1100 Block McKinney LANE Pittsburgh, PA 15205</td>\n",
       "      <td>40.423529</td>\n",
       "      <td>-80.035034</td>\n",
       "      <td>Ridgemont</td>\n",
       "      <td>6</td>\n",
       "    </tr>\n",
       "  </tbody>\n",
       "</table>\n",
       "</div>"
      ],
      "text/plain": [
       "         Date  Temperature Weather Condition   Age Gender Race  \\\n",
       "0  2016-02-12        20.53     Mostly Cloudy  24.0      F    B   \n",
       "\n",
       "                                   Offenses Severity Arrest_Time  \\\n",
       "0  2701(a)(1) Simple Assault - Intent., Know., Re...    21:00:00   \n",
       "\n",
       "                               Incident Location  Incident Latitude  \\\n",
       "0  1100 Block McKinney LANE Pittsburgh, PA 15205          40.423529   \n",
       "\n",
       "   Incident Longitude Incident Neighborhood Incident Zone  \n",
       "0          -80.035034             Ridgemont             6  "
      ]
     },
     "execution_count": 6,
     "metadata": {},
     "output_type": "execute_result"
    }
   ],
   "source": [
    "# Merge organized_df with weather_df\n",
    "merged_df = weather_df.merge(organized_df, how=\"inner\", on=[\"Date\", \"Date\"])\n",
    "merged_df.head(1)"
   ]
  },
  {
   "cell_type": "code",
   "execution_count": 7,
   "metadata": {},
   "outputs": [
    {
     "data": {
      "text/html": [
       "<div>\n",
       "<style scoped>\n",
       "    .dataframe tbody tr th:only-of-type {\n",
       "        vertical-align: middle;\n",
       "    }\n",
       "\n",
       "    .dataframe tbody tr th {\n",
       "        vertical-align: top;\n",
       "    }\n",
       "\n",
       "    .dataframe thead th {\n",
       "        text-align: right;\n",
       "    }\n",
       "</style>\n",
       "<table border=\"1\" class=\"dataframe\">\n",
       "  <thead>\n",
       "    <tr style=\"text-align: right;\">\n",
       "      <th></th>\n",
       "      <th>Age</th>\n",
       "      <th>Gender</th>\n",
       "      <th>Race</th>\n",
       "      <th>Offenses Severity</th>\n",
       "      <th>Arrest Day of Week</th>\n",
       "      <th>Arrest Date</th>\n",
       "      <th>Arrest Month</th>\n",
       "      <th>Arrest Year</th>\n",
       "      <th>Temperature</th>\n",
       "      <th>Weather Condition</th>\n",
       "      <th>Incident Location</th>\n",
       "      <th>Incident Latitude</th>\n",
       "      <th>Incident Longitude</th>\n",
       "      <th>Incident Neighborhood</th>\n",
       "      <th>Incident Zone</th>\n",
       "    </tr>\n",
       "  </thead>\n",
       "  <tbody>\n",
       "    <tr>\n",
       "      <th>0</th>\n",
       "      <td>24.0</td>\n",
       "      <td>F</td>\n",
       "      <td>B</td>\n",
       "      <td>2701(a)(1) Simple Assault - Intent., Know., Re...</td>\n",
       "      <td>Friday</td>\n",
       "      <td>12</td>\n",
       "      <td>February</td>\n",
       "      <td>2016</td>\n",
       "      <td>20.53</td>\n",
       "      <td>Mostly Cloudy</td>\n",
       "      <td>1100 Block McKinney LANE Pittsburgh, PA 15205</td>\n",
       "      <td>40.423529</td>\n",
       "      <td>-80.035034</td>\n",
       "      <td>Ridgemont</td>\n",
       "      <td>6</td>\n",
       "    </tr>\n",
       "    <tr>\n",
       "      <th>1</th>\n",
       "      <td>31.0</td>\n",
       "      <td>M</td>\n",
       "      <td>W</td>\n",
       "      <td>13(a)(16) Possession of Controlled Substance /...</td>\n",
       "      <td>Wednesday</td>\n",
       "      <td>17</td>\n",
       "      <td>February</td>\n",
       "      <td>2016</td>\n",
       "      <td>32.76</td>\n",
       "      <td>Overcast</td>\n",
       "      <td>800 Block Concord ST Pittsburgh, PA 15212</td>\n",
       "      <td>40.457564</td>\n",
       "      <td>-79.997924</td>\n",
       "      <td>East Allegheny</td>\n",
       "      <td>1</td>\n",
       "    </tr>\n",
       "    <tr>\n",
       "      <th>2</th>\n",
       "      <td>31.0</td>\n",
       "      <td>F</td>\n",
       "      <td>O</td>\n",
       "      <td>9015 Failure To Appear/Arrest on Attachment Order</td>\n",
       "      <td>Thursday</td>\n",
       "      <td>03</td>\n",
       "      <td>March</td>\n",
       "      <td>2016</td>\n",
       "      <td>34.11</td>\n",
       "      <td>Partly Cloudy</td>\n",
       "      <td>600 Block Liberty AV Pittsburgh, PA 15222</td>\n",
       "      <td>40.441773</td>\n",
       "      <td>-80.001620</td>\n",
       "      <td>Central Business District</td>\n",
       "      <td>2</td>\n",
       "    </tr>\n",
       "    <tr>\n",
       "      <th>3</th>\n",
       "      <td>22.0</td>\n",
       "      <td>M</td>\n",
       "      <td>W</td>\n",
       "      <td>2702 Aggravated Assault. / 2706 Terroristic Th...</td>\n",
       "      <td>Monday</td>\n",
       "      <td>04</td>\n",
       "      <td>April</td>\n",
       "      <td>2016</td>\n",
       "      <td>50.96</td>\n",
       "      <td>Light Rain</td>\n",
       "      <td>S 15th ST &amp; E Carson ST Pittsburgh, PA 15203</td>\n",
       "      <td>40.428815</td>\n",
       "      <td>-79.983425</td>\n",
       "      <td>South Side Flats</td>\n",
       "      <td>3</td>\n",
       "    </tr>\n",
       "    <tr>\n",
       "      <th>4</th>\n",
       "      <td>36.0</td>\n",
       "      <td>M</td>\n",
       "      <td>W</td>\n",
       "      <td>13(a)(32) Paraphernalia - Use or Possession</td>\n",
       "      <td>Friday</td>\n",
       "      <td>08</td>\n",
       "      <td>April</td>\n",
       "      <td>2016</td>\n",
       "      <td>39.39</td>\n",
       "      <td>Overcast</td>\n",
       "      <td>Boyd ST &amp; Diamond ST Pittsburgh, PA 15219</td>\n",
       "      <td>40.438656</td>\n",
       "      <td>-79.993293</td>\n",
       "      <td>Bluff</td>\n",
       "      <td>2</td>\n",
       "    </tr>\n",
       "  </tbody>\n",
       "</table>\n",
       "</div>"
      ],
      "text/plain": [
       "    Age Gender Race                                  Offenses Severity  \\\n",
       "0  24.0      F    B  2701(a)(1) Simple Assault - Intent., Know., Re...   \n",
       "1  31.0      M    W  13(a)(16) Possession of Controlled Substance /...   \n",
       "2  31.0      F    O  9015 Failure To Appear/Arrest on Attachment Order   \n",
       "3  22.0      M    W  2702 Aggravated Assault. / 2706 Terroristic Th...   \n",
       "4  36.0      M    W        13(a)(32) Paraphernalia - Use or Possession   \n",
       "\n",
       "  Arrest Day of Week Arrest Date Arrest Month Arrest Year  Temperature  \\\n",
       "0             Friday          12     February        2016        20.53   \n",
       "1          Wednesday          17     February        2016        32.76   \n",
       "2           Thursday          03        March        2016        34.11   \n",
       "3             Monday          04        April        2016        50.96   \n",
       "4             Friday          08        April        2016        39.39   \n",
       "\n",
       "  Weather Condition                              Incident Location  \\\n",
       "0     Mostly Cloudy  1100 Block McKinney LANE Pittsburgh, PA 15205   \n",
       "1          Overcast      800 Block Concord ST Pittsburgh, PA 15212   \n",
       "2     Partly Cloudy      600 Block Liberty AV Pittsburgh, PA 15222   \n",
       "3        Light Rain   S 15th ST & E Carson ST Pittsburgh, PA 15203   \n",
       "4          Overcast      Boyd ST & Diamond ST Pittsburgh, PA 15219   \n",
       "\n",
       "   Incident Latitude  Incident Longitude      Incident Neighborhood  \\\n",
       "0          40.423529          -80.035034                  Ridgemont   \n",
       "1          40.457564          -79.997924             East Allegheny   \n",
       "2          40.441773          -80.001620  Central Business District   \n",
       "3          40.428815          -79.983425           South Side Flats   \n",
       "4          40.438656          -79.993293                      Bluff   \n",
       "\n",
       "  Incident Zone  \n",
       "0             6  \n",
       "1             1  \n",
       "2             2  \n",
       "3             3  \n",
       "4             2  "
      ]
     },
     "execution_count": 7,
     "metadata": {},
     "output_type": "execute_result"
    }
   ],
   "source": [
    "# Clean & Organize merged_df\n",
    "merged_df[['Arrest Year','Arrest Month','Arrest Date']]=merged_df['Date'].str.split('-', expand=True,n=2)\n",
    "merged_df[['Arrest_Hour','Arrest_LongTime']]=merged_df['Arrest_Time'].str.split(':', expand=True,n=1)\n",
    "\n",
    "# Convert \"Arrest Month\" column from Month Numbers to Month Names\n",
    "look_up = {'01': 'January', '02': 'February', '03': 'March', '04': 'April', '05': 'May',\n",
    "            '06': 'June', '07': 'July', '08': 'August', '09': 'September', '10': 'October', '11': 'November', '12': 'December'}\n",
    "merged_df['Arrest Month'] = merged_df['Arrest Month'].apply(lambda x: look_up[x])\n",
    "\n",
    "# Convert \"Arrest Timestamp\" column into \"Arrest Day\" column\n",
    "merged_df['Date'] = pd.to_datetime(merged_df.Date) \n",
    "merged_df['Arrest Day of Week'] = merged_df.Date.dt.weekday_name\n",
    "\n",
    "# Create 'Arrest Time of Day' column from 'Arrest Hour' column\n",
    "merged_df[\"Arrest_Hour\"] = pd.to_numeric(merged_df[\"Arrest_Hour\"])\n",
    "# Create bins in which to place values based upon Time of Day\n",
    "day_bins = [0, 4, 8, 12, 16, 20, 24]\n",
    "# Create labels for day_bins\n",
    "day_labels = [\"Early Morning\", \"Morning\", \"Late Morning\", \"Early Afternoon\", \"Early Evening\", \"Evening\"]\n",
    "# Create 'Arrest Time of Day' column for storing bins\n",
    "merged_df['Arrest Time of Day'] = pd.cut(merged_df['Arrest_Hour'], day_bins, labels=day_labels)\n",
    "# Deleter unwanted columns\n",
    "del merged_df['Date']\n",
    "del merged_df['Arrest_Time']\n",
    "del merged_df['Arrest_LongTime']\n",
    "del merged_df['Arrest_Hour']\n",
    "# Reorganize columns\n",
    "full_crime_df = merged_df[['Age', 'Gender', 'Race', 'Offenses Severity', 'Arrest Day of Week', 'Arrest Date', 'Arrest Month', 'Arrest Year', 'Temperature', 'Weather Condition', 'Incident Location', 'Incident Latitude', 'Incident Longitude', 'Incident Neighborhood', 'Incident Zone']]\n",
    "# Show DataFrame\n",
    "full_crime_df.head()\n"
   ]
  },
  {
   "cell_type": "code",
   "execution_count": null,
   "metadata": {},
   "outputs": [],
   "source": []
  },
  {
   "cell_type": "code",
   "execution_count": null,
   "metadata": {},
   "outputs": [],
   "source": []
  },
  {
   "cell_type": "code",
   "execution_count": null,
   "metadata": {},
   "outputs": [],
   "source": []
  },
  {
   "cell_type": "code",
   "execution_count": 25,
   "metadata": {},
   "outputs": [],
   "source": []
  },
  {
   "cell_type": "code",
   "execution_count": null,
   "metadata": {},
   "outputs": [],
   "source": []
  },
  {
   "cell_type": "code",
   "execution_count": null,
   "metadata": {},
   "outputs": [],
   "source": []
  },
  {
   "cell_type": "code",
   "execution_count": 14,
   "metadata": {},
   "outputs": [],
   "source": [
    "# Weather vs Crime Frequency / Crime Type\n",
    "    # Temperature (Hot vs Cold)\n",
    "        # X-Axis: Temperature (Ex. Very Cold, Cold, Moderate, Hot, Very Hot, etc.)\n",
    "        # Y-Axis: Amount of Crime (measured by incident number)\n",
    "    # Weather Condition: \n",
    "        # X-Axis: Type of weather (ie rain, sun, snow, etc.)\n",
    "        # Y-Axis: Amount of Crime (measured by incident number)\n"
   ]
  },
  {
   "cell_type": "code",
   "execution_count": 15,
   "metadata": {},
   "outputs": [],
   "source": [
    "# Crime Frequency vs Incident Location (Heatmap) (Liam)\n",
    "    # Crime Frequency vs Police Zone (Heatmap) (Liam)\n"
   ]
  },
  {
   "cell_type": "code",
   "execution_count": 16,
   "metadata": {},
   "outputs": [],
   "source": [
    "# Crime Severity vs Incident Location (Heatmap) (Liam)\n"
   ]
  },
  {
   "cell_type": "code",
   "execution_count": 17,
   "metadata": {},
   "outputs": [],
   "source": [
    "# Age, Gender and Race vs Crime (Pie Charts?)\n",
    "    # Crime Frequency\n",
    "        # Grouped by incident location & date\n",
    "        \n",
    "    # Crime Type\n",
    "    \n",
    "    # Crime Severity (Felonies, Misdemeanors or Violations/Infractions)\n"
   ]
  },
  {
   "cell_type": "code",
   "execution_count": null,
   "metadata": {},
   "outputs": [],
   "source": []
  },
  {
   "cell_type": "code",
   "execution_count": null,
   "metadata": {},
   "outputs": [],
   "source": []
  },
  {
   "cell_type": "code",
   "execution_count": null,
   "metadata": {},
   "outputs": [],
   "source": []
  },
  {
   "cell_type": "code",
   "execution_count": null,
   "metadata": {},
   "outputs": [],
   "source": []
  },
  {
   "cell_type": "code",
   "execution_count": null,
   "metadata": {},
   "outputs": [],
   "source": []
  },
  {
   "cell_type": "code",
   "execution_count": null,
   "metadata": {},
   "outputs": [],
   "source": []
  },
  {
   "cell_type": "code",
   "execution_count": null,
   "metadata": {},
   "outputs": [],
   "source": []
  },
  {
   "cell_type": "code",
   "execution_count": null,
   "metadata": {},
   "outputs": [],
   "source": []
  },
  {
   "cell_type": "code",
   "execution_count": null,
   "metadata": {},
   "outputs": [],
   "source": []
  },
  {
   "cell_type": "code",
   "execution_count": null,
   "metadata": {},
   "outputs": [],
   "source": [
    "#full_crime_df.groupby(['Gender','Race']).count().unstack().plot.bar()"
   ]
  },
  {
   "cell_type": "code",
   "execution_count": null,
   "metadata": {},
   "outputs": [],
   "source": [
    "\n"
   ]
  },
  {
   "cell_type": "code",
   "execution_count": null,
   "metadata": {},
   "outputs": [],
   "source": [
    "#PH# Crime Frequency vs Time of Year (seasonality)\n",
    "#crime_plot = full_crime_df.groupby([\"Arrest Year\",\"Arrest Month\"]).count().stack().plot.bar()\n",
    "#crime_plot.set_xlabel('Arrest Year')\n",
    "#crime_plot.set_ylabel('OFFENSES')\n",
    "#crime_plot.set_title('crime vs time of year')"
   ]
  },
  {
   "cell_type": "code",
   "execution_count": null,
   "metadata": {},
   "outputs": [],
   "source": []
  },
  {
   "cell_type": "code",
   "execution_count": null,
   "metadata": {},
   "outputs": [],
   "source": []
  },
  {
   "cell_type": "code",
   "execution_count": null,
   "metadata": {},
   "outputs": [],
   "source": []
  },
  {
   "cell_type": "code",
   "execution_count": null,
   "metadata": {},
   "outputs": [],
   "source": [
    "#PH# Crime Frequency vs Time of Year (seasonality)\n",
    "\n",
    "# Split data into groups based upon day of week\n",
    "#month_groups = organized_df.groupby('Arrest Month').sum()\n",
    "\n",
    "#sorter2 = ['January', 'Febraury', 'March', 'April', 'May', 'June', \n",
    "#          'July', 'August', 'September', 'October', 'November', 'December']\n",
    "#sorterIndex = dict(zip(sorter2,range(len(sorter2))))\n",
    "\n",
    "#month_groups['Month_id'] = month_groups.index\n",
    "#month_groups['Month_id'] = month_groups['Month_id'].map(sorterIndex)\n",
    "#month_groups.sort_values('Month_id', inplace=True)\n",
    "\n",
    "#fig, ax = plt.subplots(facecolor='white')\n",
    " \n",
    "#ax.bar(month_groups.Month_id, month_groups.Criminal)\n",
    "#ax.set_xticks(month_groups.Month_id)\n",
    "#ax.set_xticklabels(month_groups.index)\n",
    "\n",
    "# Edit\n",
    "    # Change Colors\n",
    "    # Make Labels Diagonal\n",
    "    # Change Y-Axis meaurements"
   ]
  },
  {
   "cell_type": "code",
   "execution_count": null,
   "metadata": {},
   "outputs": [],
   "source": []
  },
  {
   "cell_type": "code",
   "execution_count": null,
   "metadata": {},
   "outputs": [],
   "source": []
  },
  {
   "cell_type": "code",
   "execution_count": null,
   "metadata": {},
   "outputs": [],
   "source": []
  },
  {
   "cell_type": "code",
   "execution_count": null,
   "metadata": {},
   "outputs": [],
   "source": []
  },
  {
   "cell_type": "code",
   "execution_count": null,
   "metadata": {},
   "outputs": [],
   "source": []
  },
  {
   "cell_type": "code",
   "execution_count": null,
   "metadata": {},
   "outputs": [],
   "source": []
  },
  {
   "cell_type": "code",
   "execution_count": null,
   "metadata": {},
   "outputs": [],
   "source": []
  },
  {
   "cell_type": "code",
   "execution_count": null,
   "metadata": {},
   "outputs": [],
   "source": []
  },
  {
   "cell_type": "code",
   "execution_count": null,
   "metadata": {},
   "outputs": [],
   "source": [
    "#Time_df = full_crime_df.loc[:,[\"Arrest Year\",\"Arrest Month\"]]\n",
    "#Arrest_Year_group = Time_df.groupby([\"Arrest Year\",\"Arrest Month\"]).count()\n"
   ]
  },
  {
   "cell_type": "code",
   "execution_count": null,
   "metadata": {},
   "outputs": [],
   "source": []
  },
  {
   "cell_type": "code",
   "execution_count": null,
   "metadata": {},
   "outputs": [],
   "source": []
  },
  {
   "cell_type": "code",
   "execution_count": null,
   "metadata": {},
   "outputs": [],
   "source": []
  },
  {
   "cell_type": "code",
   "execution_count": null,
   "metadata": {},
   "outputs": [],
   "source": [
    "# Crime Severity vs Time of Year (seasonality)\n",
    "#Arrest month vs len(grouped(Incident Severity))\n",
    "# X-Axis: Months\n",
    "# Y-Axis: Severity of Crime (measured by incident number)\n"
   ]
  },
  {
   "cell_type": "code",
   "execution_count": null,
   "metadata": {},
   "outputs": [],
   "source": [
    "#PH# Crime Frequency vs Day of Week\n",
    "\n",
    "# Split data into groups based upon day of week\n",
    "#day_groups = organized_df.groupby('Arrest Day of Week').sum()\n",
    "\n",
    "#sorter = ['Sunday', 'Monday', 'Tuesday', 'Wednesday', 'Thursday', 'Friday', 'Saturday']\n",
    "#sorterIndex = dict(zip(sorter,range(len(sorter))))\n",
    "\n",
    "#day_groups['Day_id'] = day_groups.index\n",
    "#day_groups['Day_id'] = day_groups['Day_id'].map(sorterIndex)\n",
    "#day_groups.sort_values('Day_id', inplace=True)\n",
    "\n",
    "#fig, ax = plt.subplots(facecolor='white')\n",
    " \n",
    "#ax.bar(day_groups.Day_id, day_groups.Criminal)\n",
    "#ax.set_xticks(day_groups.Day_id)\n",
    "#ax.set_xticklabels(day_groups.index)\n"
   ]
  },
  {
   "cell_type": "code",
   "execution_count": null,
   "metadata": {},
   "outputs": [],
   "source": [
    "# Crime Severity vs Day of Week\n",
    "#Arrest Day of Week vs len(grouped(Incident Severity))\n",
    "# X-Axis: Day (Monday, Tuesday, Wednesday, etc.)\n",
    "# Y-Axis: Severity of Crime (measured by incident type)\n"
   ]
  },
  {
   "cell_type": "code",
   "execution_count": null,
   "metadata": {},
   "outputs": [],
   "source": [
    "#PH# Crime Frequency vs Time of Day \n",
    "\n",
    "# Split data into groups based upon day of week\n",
    "#time_of_day_groups = organized_df.groupby('Arrest Time of Day')\n",
    "# Find out how many arrests occured during each month group\n",
    "#incidents_time_of_day = time_of_day_groups['Criminal'].count()\n",
    "# Chart our data, give it a title, and label the axes\n",
    "#incidents_time_of_day_chart = incidents_time_of_day.plot(kind=\"bar\", title=\"Crime Frequency vs. Time of Day\")\n",
    "#incidents_time_of_day_chart.set_xlabel(\"Time of Day\")\n",
    "#incidents_time_of_day_chart.set_ylabel(\"Amount of Crime (Per Incident)\")\n",
    "#plt.xticks(rotation = 45)\n",
    "\n",
    "\n",
    "#plt.tight_layout()\n",
    "\n",
    "# Edit\n",
    "# Change Colors\n",
    "# Make Labels Diagonal\n",
    "# Change Y-Axis meaurements"
   ]
  },
  {
   "cell_type": "code",
   "execution_count": null,
   "metadata": {},
   "outputs": [],
   "source": [
    "# Crime Severity vs Time of Day \n",
    "# X-Axis: Time of Day (early morning, morning, early afternoon, noon, etc.)\n",
    "# Y-Axis: Severity of Crime (measured by incident type)\n"
   ]
  },
  {
   "cell_type": "code",
   "execution_count": null,
   "metadata": {},
   "outputs": [],
   "source": []
  },
  {
   "cell_type": "code",
   "execution_count": null,
   "metadata": {},
   "outputs": [],
   "source": []
  },
  {
   "cell_type": "code",
   "execution_count": null,
   "metadata": {},
   "outputs": [],
   "source": []
  }
 ],
 "metadata": {
  "kernelspec": {
   "display_name": "Python 3",
   "language": "python",
   "name": "python3"
  },
  "language_info": {
   "codemirror_mode": {
    "name": "ipython",
    "version": 3
   },
   "file_extension": ".py",
   "mimetype": "text/x-python",
   "name": "python",
   "nbconvert_exporter": "python",
   "pygments_lexer": "ipython3",
   "version": "3.7.1"
  }
 },
 "nbformat": 4,
 "nbformat_minor": 2
}
